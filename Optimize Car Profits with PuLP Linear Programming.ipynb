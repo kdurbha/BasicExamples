{
 "cells": [
  {
   "cell_type": "markdown",
   "id": "3b5f7468",
   "metadata": {},
   "source": [
    "* Linear Programming in Python with PuLP\n",
    "* Source blog: https://towardsdatascience.com/basic-linear-programming-in-python-with-pulp-d398d144802b"
   ]
  },
  {
   "cell_type": "markdown",
   "id": "6172c0ff",
   "metadata": {},
   "source": [
    "Linear Programming is used to solve Optimization problems given a few constraints. An example problem is below:\n",
    "* We have two models of a car, Car A and Car B.\n",
    "* Car A gives us a profit of 20k and Car B gives us a profit of 45k\n",
    "* The Designer takes 4 days to build Car A and 5 days to build Car B\n",
    "* The Engineer takes 3 days to build Car A and 6 days to build Car B\n",
    "* The Machine takes 2 days to build Car A and 7 days to build Car B\n",
    "* The Designer, Engineer and Machine can all work for 30 days\n",
    "\n",
    "Objective function: Mazimize profits ie. Max of 20,000 A + 45,000 B\n",
    "\n",
    "Constraints:\n",
    "1. A, B =>0\n",
    "2. 4A + 5B <= 30\n",
    "3. 3A + 6B <= 30\n",
    "4. 2A + 7B <= 30"
   ]
  },
  {
   "cell_type": "code",
   "execution_count": 3,
   "id": "f2861708",
   "metadata": {},
   "outputs": [],
   "source": [
    "from pulp import * "
   ]
  },
  {
   "cell_type": "code",
   "execution_count": 4,
   "id": "06fa3afb",
   "metadata": {},
   "outputs": [
    {
     "name": "stderr",
     "output_type": "stream",
     "text": [
      "/opt/anaconda3/lib/python3.8/site-packages/pulp/pulp.py:1352: UserWarning: Spaces are not permitted in the name. Converted to '_'\n",
      "  warnings.warn(\"Spaces are not permitted in the name. Converted to '_'\")\n"
     ]
    }
   ],
   "source": [
    "# Create an Instance of LpProblem\n",
    "problem = LpProblem('Car Factory', LpMaximize)"
   ]
  },
  {
   "cell_type": "code",
   "execution_count": 5,
   "id": "7b7c7d4c",
   "metadata": {},
   "outputs": [],
   "source": [
    "# Create decision variables\n",
    "# The first parameter is the name of the variable, \n",
    "# The second parameter specifies the lower bound and \n",
    "# Third parameter specifies the type of variable. Can also be LpContinuous or LpBinary.\n",
    "A = LpVariable('Car A', lowBound=0 , cat=LpInteger)\n",
    "B = LpVariable('Car B', lowBound=0 , cat=LpInteger)"
   ]
  },
  {
   "cell_type": "code",
   "execution_count": 7,
   "id": "63e32a61",
   "metadata": {},
   "outputs": [],
   "source": [
    "#Objective Function\n",
    "problem += 20000*A + 45000*B , 'Objective Function'\n",
    "\n",
    "#Constraints\n",
    "problem += 4*A + 5*B <= 30, 'Designer Constraint'\n",
    "problem += 3*A + 6*B <=30,  'Engineer Constraint'\n",
    "problem += 2*A + 7*B <=30,  'Machine Constraint'"
   ]
  },
  {
   "cell_type": "code",
   "execution_count": 8,
   "id": "d3373b8e",
   "metadata": {},
   "outputs": [
    {
     "name": "stdout",
     "output_type": "stream",
     "text": [
      "Number of Car A Made:  1.0\n",
      "Number of Car B Made:  4.0\n",
      "Total Profit:  200000.0\n"
     ]
    }
   ],
   "source": [
    "# Solve the Problem\n",
    "problem.solve()\n",
    "print(\"Number of Car A Made: \", A.varValue)\n",
    "print(\"Number of Car B Made: \", B.varValue)\n",
    "print(\"Total Profit: \", value(problem.objective))"
   ]
  },
  {
   "cell_type": "markdown",
   "id": "02531837",
   "metadata": {},
   "source": [
    "Conclusion: In just a few lines of code, we were able to maximize the profits by making more or Car B as compared to Car A. PuLP has many other interesting applications as well. A couple of them are listed below: \n",
    "1. Diet Plan: Create a diet plan so that constraints on calorie and nutrition intake are met while minimizing the cost.\n",
    "2. Sudoku Solver: Use Linear Programming to solve the famous Sudoku Puzzles\n",
    "3. Maximizing return on the long-term investment as an LP problem\n",
    "4. LP applied to production planning\n",
    "5. Solving warehouse location problem using ILP"
   ]
  },
  {
   "cell_type": "code",
   "execution_count": null,
   "id": "ab7b7ea2",
   "metadata": {},
   "outputs": [],
   "source": []
  }
 ],
 "metadata": {
  "kernelspec": {
   "display_name": "Python 3",
   "language": "python",
   "name": "python3"
  },
  "language_info": {
   "codemirror_mode": {
    "name": "ipython",
    "version": 3
   },
   "file_extension": ".py",
   "mimetype": "text/x-python",
   "name": "python",
   "nbconvert_exporter": "python",
   "pygments_lexer": "ipython3",
   "version": "3.8.8"
  }
 },
 "nbformat": 4,
 "nbformat_minor": 5
}
